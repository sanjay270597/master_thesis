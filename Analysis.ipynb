{
 "cells": [
  {
   "cell_type": "markdown",
   "metadata": {},
   "source": [
    "Runtimes: [131.5299518108368, 136.93773484230042, 131.8199486732483, 146.75882601737976, 132.13822865486145, 126.19375133514404, 122.97336530685425, 123.7302098274231, 138.2909541130066, 132.65375900268555, 139.0282437801361]\n",
    "1462.0549733638763"
   ]
  },
  {
   "cell_type": "code",
   "execution_count": 1,
   "metadata": {},
   "outputs": [],
   "source": [
    "import pandas as pd\n",
    "import numpy as np\n",
    "import matplotlib.pyplot as plt\n",
    "from scipy.stats import shapiro, skew, kurtosis, wasserstein_distance"
   ]
  },
  {
   "cell_type": "code",
   "execution_count": 22,
   "metadata": {},
   "outputs": [
    {
     "name": "stdout",
     "output_type": "stream",
     "text": [
      "1\n"
     ]
    }
   ],
   "source": [
    "import os\n",
    "os.listdir(\"..\\\\results\")\n",
    "with open('..//results/benchmark_timers.csv') as f:\n",
    "    print(1)"
   ]
  },
  {
   "cell_type": "code",
   "execution_count": 24,
   "metadata": {
    "scrolled": true
   },
   "outputs": [
    {
     "data": {
      "text/html": [
       "<div>\n",
       "<style scoped>\n",
       "    .dataframe tbody tr th:only-of-type {\n",
       "        vertical-align: middle;\n",
       "    }\n",
       "\n",
       "    .dataframe tbody tr th {\n",
       "        vertical-align: top;\n",
       "    }\n",
       "\n",
       "    .dataframe thead th {\n",
       "        text-align: right;\n",
       "    }\n",
       "</style>\n",
       "<table border=\"1\" class=\"dataframe\">\n",
       "  <thead>\n",
       "    <tr style=\"text-align: right;\">\n",
       "      <th></th>\n",
       "      <th></th>\n",
       "      <th>0.0_pct_tot_delay</th>\n",
       "      <th>17.0_pct_tot_delay</th>\n",
       "      <th>33.0_pct_tot_delay</th>\n",
       "      <th>50.0_pct_tot_delay</th>\n",
       "      <th>67.0_pct_tot_delay</th>\n",
       "      <th>83.0_pct_tot_delay</th>\n",
       "      <th>100.0_pct_tot_delay</th>\n",
       "    </tr>\n",
       "    <tr>\n",
       "      <th>Weight Adjustments</th>\n",
       "      <th>Total Delay</th>\n",
       "      <th></th>\n",
       "      <th></th>\n",
       "      <th></th>\n",
       "      <th></th>\n",
       "      <th></th>\n",
       "      <th></th>\n",
       "      <th></th>\n",
       "    </tr>\n",
       "  </thead>\n",
       "  <tbody>\n",
       "    <tr>\n",
       "      <th rowspan=\"2\" valign=\"top\">With</th>\n",
       "      <th>10ms Delay</th>\n",
       "      <td>30.692249</td>\n",
       "      <td>30.771927</td>\n",
       "      <td>30.873280</td>\n",
       "      <td>30.756501</td>\n",
       "      <td>30.930350</td>\n",
       "      <td>31.063350</td>\n",
       "      <td>31.207379</td>\n",
       "    </tr>\n",
       "    <tr>\n",
       "      <th>1ms Delay</th>\n",
       "      <td>30.515314</td>\n",
       "      <td>30.918558</td>\n",
       "      <td>30.856273</td>\n",
       "      <td>31.006343</td>\n",
       "      <td>30.806335</td>\n",
       "      <td>30.943310</td>\n",
       "      <td>31.291756</td>\n",
       "    </tr>\n",
       "    <tr>\n",
       "      <th rowspan=\"2\" valign=\"top\">Without</th>\n",
       "      <th>10ms Delay</th>\n",
       "      <td>30.876865</td>\n",
       "      <td>30.942296</td>\n",
       "      <td>30.846358</td>\n",
       "      <td>30.806660</td>\n",
       "      <td>31.057992</td>\n",
       "      <td>31.119937</td>\n",
       "      <td>30.951226</td>\n",
       "    </tr>\n",
       "    <tr>\n",
       "      <th>1ms Delay</th>\n",
       "      <td>31.136893</td>\n",
       "      <td>30.885635</td>\n",
       "      <td>31.152362</td>\n",
       "      <td>31.335427</td>\n",
       "      <td>31.157656</td>\n",
       "      <td>31.149738</td>\n",
       "      <td>31.033793</td>\n",
       "    </tr>\n",
       "  </tbody>\n",
       "</table>\n",
       "</div>"
      ],
      "text/plain": [
       "                                0.0_pct_tot_delay  17.0_pct_tot_delay  \\\n",
       "Weight Adjustments Total Delay                                          \n",
       "With               10ms Delay           30.692249           30.771927   \n",
       "                   1ms Delay            30.515314           30.918558   \n",
       "Without            10ms Delay           30.876865           30.942296   \n",
       "                   1ms Delay            31.136893           30.885635   \n",
       "\n",
       "                                33.0_pct_tot_delay  50.0_pct_tot_delay  \\\n",
       "Weight Adjustments Total Delay                                           \n",
       "With               10ms Delay            30.873280           30.756501   \n",
       "                   1ms Delay             30.856273           31.006343   \n",
       "Without            10ms Delay            30.846358           30.806660   \n",
       "                   1ms Delay             31.152362           31.335427   \n",
       "\n",
       "                                67.0_pct_tot_delay  83.0_pct_tot_delay  \\\n",
       "Weight Adjustments Total Delay                                           \n",
       "With               10ms Delay            30.930350           31.063350   \n",
       "                   1ms Delay             30.806335           30.943310   \n",
       "Without            10ms Delay            31.057992           31.119937   \n",
       "                   1ms Delay             31.157656           31.149738   \n",
       "\n",
       "                                100.0_pct_tot_delay  \n",
       "Weight Adjustments Total Delay                       \n",
       "With               10ms Delay             31.207379  \n",
       "                   1ms Delay              31.291756  \n",
       "Without            10ms Delay             30.951226  \n",
       "                   1ms Delay              31.033793  "
      ]
     },
     "execution_count": 24,
     "metadata": {},
     "output_type": "execute_result"
    }
   ],
   "source": [
    "timer_df = pd.read_csv(\"..//results/benchmark_timers.csv\",index_col=0)\n",
    "timer_df.head()\n",
    "timer_grps = timer_df.groupby(['Weight Adjustments','Total Delay'])\n",
    "timer_grps.mean()"
   ]
  },
  {
   "cell_type": "code",
   "execution_count": 25,
   "metadata": {},
   "outputs": [
    {
     "data": {
      "text/plain": [
       "array([[30.69224877, 30.77192731, 30.87327962, 30.7565006 , 30.93035011,\n",
       "        31.06335039, 31.20737872],\n",
       "       [30.51531382, 30.91855817, 30.85627317, 31.00634255, 30.80633533,\n",
       "        30.94330995, 31.29175615],\n",
       "       [30.87686493, 30.94229586, 30.84635832, 30.80666044, 31.05799158,\n",
       "        31.11993659, 30.95122633],\n",
       "       [31.13689332, 30.88563547, 31.15236192, 31.33542678, 31.15765619,\n",
       "        31.149738  , 31.03379302]])"
      ]
     },
     "execution_count": 25,
     "metadata": {},
     "output_type": "execute_result"
    }
   ],
   "source": [
    "mean_timers = timer_grps.mean()\n",
    "mean_timers.values\n"
   ]
  },
  {
   "cell_type": "code",
   "execution_count": 26,
   "metadata": {},
   "outputs": [
    {
     "data": {
      "text/plain": [
       "[<matplotlib.lines.Line2D at 0x2caa5108610>]"
      ]
     },
     "execution_count": 26,
     "metadata": {},
     "output_type": "execute_result"
    },
    {
     "data": {
      "image/png": "[encoded data removed]",
      "text/plain": [
       "<Figure size 432x288 with 1 Axes>"
      ]
     },
     "metadata": {
      "needs_background": "light"
     },
     "output_type": "display_data"
    }
   ],
   "source": [
    "plt.plot([0,0],[2,3],color=\"black\", marker=\"_\")\n",
    "plt.plot([1,1],[3,5],color=\"black\", marker=\"_\")\n",
    "plt.plot([2,2],[1,4])\n"
   ]
  },
  {
   "cell_type": "code",
   "execution_count": 109,
   "metadata": {},
   "outputs": [
    {
     "data": {
      "image/png": "[encoded data removed]",
      "text/plain": [
       "<Figure size 956.16x561.6 with 1 Axes>"
      ]
     },
     "metadata": {
      "needs_background": "light"
     },
     "output_type": "display_data"
    }
   ],
   "source": [
    "mean_timers = timer_grps.mean()\n",
    "min_timers = timer_grps.min()\n",
    "std_timers = timer_grps.std()\n",
    "#max_timers = timer_grps.max()\n",
    "labs = ['0%','16.7%','33.3%',\n",
    "        '50%', '66.7%', '83.3%', '100%']\n",
    "\n",
    "yerr_low = mean_timers.values - 2 * std_timers.values\n",
    "yerr_max = 2 * std_timers.values + mean_timers.values\n",
    "\n",
    "fontsize = 16\n",
    "fig, ax = plt.subplots(figsize = (16.6 * 1.2 /1.5, 11.7 /1.5))\n",
    "ax.set_xticks(ticks=[i for i in range(0,14,2)],labels= labs)\n",
    "\n",
    "ax.bar(x = [j-0.17 for j in range(0,14,2)], height = mean_timers.values.T[:,1], width= 0.34, label ='Our Implementation')\n",
    "ax.bar(x = [j+0.17 for j in range(0,14,2)], height = mean_timers.values.T[:,3], width= 0.34, label ='Current algorithm')\n",
    "for i in range(7):\n",
    "    ax.plot([2 * i - 0.17 , 2 * i  - 0.17], [yerr_low[1][i], yerr_max[1][i]] , color = 'black', linewidth = 1)\n",
    "for i in range(7):\n",
    "    ax.plot([2 * i + 0.17 , 2 * i  + 0.17], [yerr_low[3][i], yerr_max[3][i]] , color = 'black', linewidth = 1)\n",
    "ax.set_ylim(0,38)\n",
    "ax.tick_params(axis='both', labelsize=fontsize)\n",
    "ax.set_xlabel('Axonal Delay as percentage of total propgation delay', fontsize = fontsize)\n",
    "ax.set_ylabel('Time taken for simulation in seconds', fontsize = fontsize)\n",
    "#plt.bar(height=mean_timers.values.T,label=[i+' Implementation '+j for i,j in mean_timers.index], marker='*', linewidth=1.5)\n",
    "#plt.xticks(ticks=[0,1,2,3,4,5,6],labels= labs)\n",
    "#plt.ylim(0,31)\n",
    "#plt.grid\n",
    "# plt.yticks(ticks=np.linspace(3.225,3.4,8), labels=np.linspace(3.225,3.4,8)*10)\n",
    "ax.legend(prop=dict(size=fontsize))\n",
    "# for i in range(0,16):\n",
    "#     clrs = ['blue','orange','green','red']\n",
    "#     plt.plot([i%4, i%4], [min_timers.values[i//4,i%4],max_timers.values[i//4,i%4]] ,color=clrs[i//4], marker=\"_\",linewidth=0.5)\n",
    "#     plt.plot([i%4, i%4], [yerr_low[i//4,i%4],yerr_max[i//4,i%4]] ,color=clrs[i//4], marker=\"_\",linewidth=0.5*(i//4+1),markersize =16)\n",
    "plt.savefig('../Benchmark for 1s.pdf',pad_inches=0.05,bbox_inches='tight')"
   ]
  },
  {
   "cell_type": "code",
   "execution_count": 110,
   "metadata": {},
   "outputs": [
    {
     "data": {
      "image/png": "[encoded data removed]",
      "text/plain": [
       "<Figure size 956.16x561.6 with 1 Axes>"
      ]
     },
     "metadata": {
      "needs_background": "light"
     },
     "output_type": "display_data"
    }
   ],
   "source": [
    "fig, ax = plt.subplots(figsize = (16.6 * 1.2 /1.5, 11.7 /1.5))\n",
    "ax.set_xticks(ticks=[i for i in range(0,14,2)],labels= labs)\n",
    "\n",
    "ax.bar(x = [j-0.17 for j in range(0,14,2)], height = mean_timers.values.T[:,0], width= 0.34, label ='Our Implementation')\n",
    "ax.bar(x = [j+0.17 for j in range(0,14,2)], height = mean_timers.values.T[:,2], width= 0.34, label ='Current algorithm')\n",
    "for i in range(7):\n",
    "    ax.plot([2 * i - 0.17 , 2 * i  - 0.17], [yerr_low[0][i], yerr_max[0][i]] , color = 'black', linewidth = 1)\n",
    "for i in range(7):\n",
    "    ax.plot([2 * i + 0.17 , 2 * i  + 0.17], [yerr_low[2][i], yerr_max[2][i]] , color = 'black', linewidth = 1)\n",
    "ax.set_ylim(0,38)\n",
    "ax.tick_params(axis='both', labelsize=fontsize)\n",
    "ax.set_xlabel('Axonal Delay as percentage of total propgation delay', fontsize = fontsize)\n",
    "ax.set_ylabel('Time taken for simulation in seconds', fontsize = fontsize)\n",
    "#plt.bar(height=mean_timers.values.T,label=[i+' Implementation '+j for i,j in mean_timers.index], marker='*', linewidth=1.5)\n",
    "#plt.xticks(ticks=[0,1,2,3,4,5,6],labels= labs)\n",
    "#plt.ylim(0,31)\n",
    "#plt.grid\n",
    "# plt.yticks(ticks=np.linspace(3.225,3.4,8), labels=np.linspace(3.225,3.4,8)*10)\n",
    "ax.legend(prop=dict(size=fontsize))\n",
    "# for i in range(0,16):\n",
    "#     clrs = ['blue','orange','green','red']\n",
    "#     plt.plot([i%4, i%4], [min_timers.values[i//4,i%4],max_timers.values[i//4,i%4]] ,color=clrs[i//4], marker=\"_\",linewidth=0.5)\n",
    "#     plt.plot([i%4, i%4], [yerr_low[i//4,i%4],yerr_max[i//4,i%4]] ,color=clrs[i//4], marker=\"_\",linewidth=0.5*(i//4+1),markersize =16)\n",
    "plt.savefig('../Benchmark for 10s.pdf',pad_inches=0.05,bbox_inches='tight')"
   ]
  },
  {
   "cell_type": "code",
   "execution_count": 63,
   "metadata": {},
   "outputs": [
    {
     "data": {
      "text/plain": [
       "array([30.07736969, 30.04698014, 30.09401441, 29.89738202, 30.05696082,\n",
       "       30.47788668, 30.45731258])"
      ]
     },
     "execution_count": 63,
     "metadata": {},
     "output_type": "execute_result"
    }
   ],
   "source": [
    "min_timers.values.T[:,0]"
   ]
  },
  {
   "cell_type": "code",
   "execution_count": 57,
   "metadata": {},
   "outputs": [
    {
     "data": {
      "text/plain": [
       "<matplotlib.legend.Legend at 0x2caabbd6a30>"
      ]
     },
     "execution_count": 57,
     "metadata": {},
     "output_type": "execute_result"
    },
    {
     "data": {
      "image/png": "[encoded data removed]",
      "text/plain": [
       "<Figure size 432x288 with 1 Axes>"
      ]
     },
     "metadata": {
      "needs_background": "light"
     },
     "output_type": "display_data"
    }
   ],
   "source": [
    "plt.bar([i-0.2 for i in range(7)], mean_timers.values.T[:,0],width=0.4, label ='sasa')\n",
    "plt.bar([i +0.2 for i in range(7)], mean_timers.values.T[:,1],width=0.4, label='wapa')\n",
    "plt.ylim(0,40)\n",
    "plt.legend()"
   ]
  },
  {
   "cell_type": "code",
   "execution_count": 94,
   "metadata": {},
   "outputs": [
    {
     "data": {
      "text/plain": [
       "array([[29.4407841 , 29.08207033, 29.52237984, 29.60461605, 29.45199797,\n",
       "        30.10087275, 29.73397663],\n",
       "       [28.17062063, 30.05213828, 29.78741305, 29.75126225, 29.71094993,\n",
       "        29.91550079, 30.07513861],\n",
       "       [29.80764283, 29.22751925, 29.96952993, 29.77733224, 29.9419701 ,\n",
       "        30.19811575, 29.99567013],\n",
       "       [30.05718837, 30.08364789, 29.92976496, 29.58069015, 29.94072502,\n",
       "        29.88756679, 29.58540084]])"
      ]
     },
     "execution_count": 94,
     "metadata": {},
     "output_type": "execute_result"
    }
   ],
   "source": [
    "yerr_low"
   ]
  },
  {
   "cell_type": "code",
   "execution_count": 50,
   "metadata": {},
   "outputs": [
    {
     "data": {
      "text/plain": [
       "MultiIndex([(   'With', '10ms Delay'),\n",
       "            (   'With',  '1ms Delay'),\n",
       "            ('Without', '10ms Delay'),\n",
       "            ('Without',  '1ms Delay')],\n",
       "           names=['Weight Adjustments', 'Total Delay'])"
      ]
     },
     "execution_count": 50,
     "metadata": {},
     "output_type": "execute_result"
    }
   ],
   "source": [
    "min_timers.index"
   ]
  },
  {
   "cell_type": "code",
   "execution_count": 39,
   "metadata": {},
   "outputs": [
    {
     "data": {
      "text/plain": [
       "[<matplotlib.lines.Line2D at 0x1ade7f3ff40>,\n",
       " <matplotlib.lines.Line2D at 0x1ade7f3f280>]"
      ]
     },
     "execution_count": 39,
     "metadata": {},
     "output_type": "execute_result"
    },
    {
     "data": {
      "image/png": "[encoded data removed]",
      "text/plain": [
       "<Figure size 432x288 with 1 Axes>"
      ]
     },
     "metadata": {
      "needs_background": "light"
     },
     "output_type": "display_data"
    }
   ],
   "source": []
  },
  {
   "cell_type": "code",
   "execution_count": 4,
   "metadata": {},
   "outputs": [
    {
     "data": {
      "text/html": [
       "<div>\n",
       "<style scoped>\n",
       "    .dataframe tbody tr th:only-of-type {\n",
       "        vertical-align: middle;\n",
       "    }\n",
       "\n",
       "    .dataframe tbody tr th {\n",
       "        vertical-align: top;\n",
       "    }\n",
       "\n",
       "    .dataframe thead th {\n",
       "        text-align: right;\n",
       "    }\n",
       "</style>\n",
       "<table border=\"1\" class=\"dataframe\">\n",
       "  <thead>\n",
       "    <tr style=\"text-align: right;\">\n",
       "      <th></th>\n",
       "      <th></th>\n",
       "      <th>50.0_pct_tot_delay</th>\n",
       "      <th>67.0_pct_tot_delay</th>\n",
       "      <th>83.0_pct_tot_delay</th>\n",
       "      <th>100.0_pct_tot_delay</th>\n",
       "    </tr>\n",
       "    <tr>\n",
       "      <th>Weight Adjustments</th>\n",
       "      <th>Total Delay</th>\n",
       "      <th></th>\n",
       "      <th></th>\n",
       "      <th></th>\n",
       "      <th></th>\n",
       "    </tr>\n",
       "  </thead>\n",
       "  <tbody>\n",
       "    <tr>\n",
       "      <th rowspan=\"2\" valign=\"top\">With</th>\n",
       "      <th>10ms Delay</th>\n",
       "      <td>17.502728</td>\n",
       "      <td>18.017855</td>\n",
       "      <td>17.555657</td>\n",
       "      <td>18.203954</td>\n",
       "    </tr>\n",
       "    <tr>\n",
       "      <th>1ms Delay</th>\n",
       "      <td>16.847038</td>\n",
       "      <td>17.165406</td>\n",
       "      <td>17.579648</td>\n",
       "      <td>17.541548</td>\n",
       "    </tr>\n",
       "    <tr>\n",
       "      <th rowspan=\"2\" valign=\"top\">Without</th>\n",
       "      <th>10ms Delay</th>\n",
       "      <td>17.969704</td>\n",
       "      <td>17.768531</td>\n",
       "      <td>18.206139</td>\n",
       "      <td>18.120031</td>\n",
       "    </tr>\n",
       "    <tr>\n",
       "      <th>1ms Delay</th>\n",
       "      <td>18.038310</td>\n",
       "      <td>17.516779</td>\n",
       "      <td>18.527686</td>\n",
       "      <td>17.547467</td>\n",
       "    </tr>\n",
       "  </tbody>\n",
       "</table>\n",
       "</div>"
      ],
      "text/plain": [
       "                                50.0_pct_tot_delay  67.0_pct_tot_delay  \\\n",
       "Weight Adjustments Total Delay                                           \n",
       "With               10ms Delay            17.502728           18.017855   \n",
       "                   1ms Delay             16.847038           17.165406   \n",
       "Without            10ms Delay            17.969704           17.768531   \n",
       "                   1ms Delay             18.038310           17.516779   \n",
       "\n",
       "                                83.0_pct_tot_delay  100.0_pct_tot_delay  \n",
       "Weight Adjustments Total Delay                                           \n",
       "With               10ms Delay            17.555657            18.203954  \n",
       "                   1ms Delay             17.579648            17.541548  \n",
       "Without            10ms Delay            18.206139            18.120031  \n",
       "                   1ms Delay             18.527686            17.547467  "
      ]
     },
     "execution_count": 4,
     "metadata": {},
     "output_type": "execute_result"
    }
   ],
   "source": [
    "timer_grps.min()"
   ]
  },
  {
   "cell_type": "code",
   "execution_count": 8,
   "metadata": {
    "scrolled": false
   },
   "outputs": [
    {
     "data": {
      "text/html": [
       "<div>\n",
       "<style scoped>\n",
       "    .dataframe tbody tr th:only-of-type {\n",
       "        vertical-align: middle;\n",
       "    }\n",
       "\n",
       "    .dataframe tbody tr th {\n",
       "        vertical-align: top;\n",
       "    }\n",
       "\n",
       "    .dataframe thead th {\n",
       "        text-align: right;\n",
       "    }\n",
       "</style>\n",
       "<table border=\"1\" class=\"dataframe\">\n",
       "  <thead>\n",
       "    <tr style=\"text-align: right;\">\n",
       "      <th></th>\n",
       "      <th>10.0seconds</th>\n",
       "      <th>10.0seconds</th>\n",
       "    </tr>\n",
       "    <tr>\n",
       "      <th>id</th>\n",
       "      <th></th>\n",
       "      <th></th>\n",
       "    </tr>\n",
       "  </thead>\n",
       "  <tbody>\n",
       "    <tr>\n",
       "      <th>0</th>\n",
       "      <td>38.500000</td>\n",
       "      <td>38.500000</td>\n",
       "    </tr>\n",
       "    <tr>\n",
       "      <th>1</th>\n",
       "      <td>-192.500000</td>\n",
       "      <td>-192.500000</td>\n",
       "    </tr>\n",
       "    <tr>\n",
       "      <th>2</th>\n",
       "      <td>16.863615</td>\n",
       "      <td>16.254468</td>\n",
       "    </tr>\n",
       "    <tr>\n",
       "      <th>3</th>\n",
       "      <td>19.248483</td>\n",
       "      <td>19.444010</td>\n",
       "    </tr>\n",
       "    <tr>\n",
       "      <th>4</th>\n",
       "      <td>19.581878</td>\n",
       "      <td>19.359017</td>\n",
       "    </tr>\n",
       "  </tbody>\n",
       "</table>\n",
       "</div>"
      ],
      "text/plain": [
       "    10.0seconds  10.0seconds\n",
       "id                          \n",
       "0     38.500000    38.500000\n",
       "1   -192.500000  -192.500000\n",
       "2     16.863615    16.254468\n",
       "3     19.248483    19.444010\n",
       "4     19.581878    19.359017"
      ]
     },
     "execution_count": 8,
     "metadata": {},
     "output_type": "execute_result"
    },
    {
     "data": {
      "image/png": "[encoded data removed]",
      "text/plain": [
       "<Figure size 1195.2x842.4 with 8 Axes>"
      ]
     },
     "metadata": {
      "needs_background": "light"
     },
     "output_type": "display_data"
    }
   ],
   "source": [
    "arr = []\n",
    "axd = [0., 0.5]\n",
    "axd += [0.75, 1.0]\n",
    "fig = plt.figure(figsize = (16.6, 11.7))\n",
    "k=0\n",
    "for j in [1.0, 10.0]:\n",
    "    temp = []\n",
    "    for i in axd:\n",
    "        k+=1\n",
    "        i = i * j\n",
    "        label_text = ['With\\nImplementation','Without\\nImplementation']\n",
    "        \n",
    "        stdp_ax_del = pd.read_csv('ax_del_a_'+str(i)+\"_delay_\"+str(j)+'.csv',index_col=[0])\n",
    "        stdp_pl_hom = pd.read_csv('ax_del_a_'+str(i)+\"_delay_\"+str(j)+'_regular.csv',index_col=[0])\n",
    "        op = pd.concat([stdp_ax_del, stdp_pl_hom], axis = 1)\n",
    "        \n",
    "        wd = wasserstein_distance(stdp_ax_del.values.flatten()[2:], stdp_pl_hom.values.flatten()[2:])\n",
    "        temp.append(wd)\n",
    "        \n",
    "        ax = plt.subplot(2, 4, k)\n",
    "        \n",
    "        ax.hist(op.values, 40, range=(0,40), label = label_text, alpha =1, density=True, linewidth=3)\n",
    "        \"\"\"if i==10.0:\n",
    "            ax.hist(op.values, 30, range=(0, 50), label = label_text)\n",
    "        elif i==7.5:\n",
    "            ax.hist(op.values, 30, range=(0, 50), label = label_text)\n",
    "        else:\n",
    "            ax.hist(op.values, 30, range=(0, 50), label = label_text)\n",
    "        \"\"\"\n",
    "        \n",
    "        # ax.set_title(str(i)+' second(s) Axonal Delay')\n",
    "        ax.set_ylim(0,0.35)\n",
    "        # if i == 0.0:\n",
    "            # ax.set_ylabel('Delay: '+str(j)+' Second(s)')\n",
    "        if i == 0.75 and j==1.0:\n",
    "            ax.legend()\n",
    "    arr.append(temp)\n",
    "        \n",
    "        \n",
    "#fig.text(0.5, 0.04, 'STDP Synaptic Weights', ha='center',fontsize = 16)\n",
    "plt.tight_layout()\n",
    "# arr.append(temp.values.flatten())\n",
    "# plt.savefig('wts_alpha_ax.pdf',pad_inches=0.05,bbox_inches='tight')\n",
    "op.head()\n",
    "\n",
    "# Normalize Hist\n",
    "# Column, title & ticks formatting, row title in caption\n",
    "# Add Axes labels\n",
    "# Change to ms\n",
    "# Synaptic weights units pA\n",
    "# Legend in only one plots\n",
    "# Step plot, alpha (transp) low\n",
    "\n",
    "#Change alpha parameter so that the firing rates b/w 6,8.. \n",
    "# Check: Increase alpha --> decrease f.r. (only check for one case)"
   ]
  },
  {
   "cell_type": "code",
   "execution_count": 9,
   "metadata": {},
   "outputs": [
    {
     "data": {
      "image/png": "[encoded data removed]",
      "text/plain": [
       "<Figure size 432x288 with 1 Axes>"
      ]
     },
     "metadata": {
      "needs_background": "light"
     },
     "output_type": "display_data"
    }
   ],
   "source": [
    "plt.plot([0,50,75,100],arr[0], label = '1.0 ms Delay', marker = 'o')\n",
    "plt.plot([0,50,75,100],arr[1], label = '10 ms Delay', marker = 'o')\n",
    "plt.xlabel('Axonal Delay percentage of total Delay')\n",
    "plt.ylabel('Wasserstein Distance')\n",
    "plt.legend()\n",
    "plt.savefig('Change in Histogram.pdf')\n",
    "\n",
    "# Fraction of total delay in x-axis in Fig. Caption\n",
    "# More data points b/w 50 & 100\n",
    "# Table of changes in Mean & Std"
   ]
  },
  {
   "cell_type": "code",
   "execution_count": 32,
   "metadata": {},
   "outputs": [
    {
     "data": {
      "text/plain": [
       "(    0.75seconds\n",
       " id             \n",
       " 0     38.500000\n",
       " 1   -192.500000\n",
       " 2     69.937541\n",
       " 3     70.788246\n",
       " 4     68.664482,\n",
       "     0.75seconds\n",
       " id             \n",
       " 0     38.500000\n",
       " 1   -192.500000\n",
       " 2     69.937541\n",
       " 3     70.788246\n",
       " 4     68.664482)"
      ]
     },
     "execution_count": 32,
     "metadata": {},
     "output_type": "execute_result"
    }
   ],
   "source": [
    "i = 0.75\n",
    "j =1.0\n",
    "\n",
    "stdp_ax_del = pd.read_csv('ax_del_'+str(i)+\"_delay_\"+str(j)+'.csv',index_col=[0])\n",
    "stdp_pl_hom = pd.read_csv('ax_del_'+str(i)+\"_delay_\"+str(j)+'_regular.csv',index_col=[0])\n",
    "stdp_ax_del.head(), stdp_pl_hom.head()"
   ]
  },
  {
   "cell_type": "code",
   "execution_count": 3,
   "metadata": {},
   "outputs": [
    {
     "data": {
      "image/png": "[encoded data removed]",
      "text/plain": [
       "<Figure size 432x288 with 1 Axes>"
      ]
     },
     "metadata": {
      "needs_background": "light"
     },
     "output_type": "display_data"
    }
   ],
   "source": [
    "b,c,d = plt.hist(a,250,(60,80))\n",
    "# for i in d:\n",
    "# plt.bar_label(d)\n",
    "plt.show()\n",
    "\n",
    "\n",
    "# Show only for non zero values change width of bar\n",
    "\n",
    "# https://docs.scipy.org/doc/scipy/reference/generated/scipy.stats.wasserstein_distance.html\n"
   ]
  },
  {
   "cell_type": "code",
   "execution_count": 4,
   "metadata": {},
   "outputs": [],
   "source": [
    "b = pd.read_csv('ax_delay_many_to_one_0.8.csv',index_col=[0])"
   ]
  },
  {
   "cell_type": "code",
   "execution_count": 5,
   "metadata": {},
   "outputs": [
    {
     "data": {
      "text/plain": [
       "ShapiroResult(statistic=0.9940186738967896, pvalue=1.9522444424935337e-11)"
      ]
     },
     "execution_count": 5,
     "metadata": {},
     "output_type": "execute_result"
    }
   ],
   "source": [
    "llimit = np.percentile(a.values, 0.5)\n",
    "ulimit = np.percentile(a.values, 99.5)\n",
    "new = a.values[llimit<a.values]\n",
    "new = new[new<ulimit]\n",
    "\n",
    "shapiro(new)\n",
    "#P-value lowe "
   ]
  },
  {
   "cell_type": "code",
   "execution_count": 6,
   "metadata": {},
   "outputs": [
    {
     "data": {
      "text/plain": [
       "ShapiroResult(statistic=0.9912077188491821, pvalue=1.3741386704186308e-14)"
      ]
     },
     "execution_count": 6,
     "metadata": {},
     "output_type": "execute_result"
    }
   ],
   "source": [
    "llimit = np.percentile(b.values, 0.5)\n",
    "ulimit = np.percentile(b.values, 99.5)\n",
    "new1 = b.values[llimit<b.values]\n",
    "new1 = new1[new1<ulimit]\n",
    "\n",
    "shapiro(new1)"
   ]
  },
  {
   "cell_type": "code",
   "execution_count": 7,
   "metadata": {},
   "outputs": [
    {
     "data": {
      "text/plain": [
       "(array([-0.44324844]), array([-0.37825582]))"
      ]
     },
     "execution_count": 7,
     "metadata": {},
     "output_type": "execute_result"
    }
   ],
   "source": [
    "skew(b.values[2:]), skew(a.values[2:])"
   ]
  },
  {
   "cell_type": "code",
   "execution_count": 8,
   "metadata": {},
   "outputs": [
    {
     "data": {
      "text/plain": [
       "(array([0.8421131]), array([0.61476307]))"
      ]
     },
     "execution_count": 8,
     "metadata": {},
     "output_type": "execute_result"
    }
   ],
   "source": [
    "kurtosis(b.values[2:]), kurtosis(a.values[2:])"
   ]
  },
  {
   "cell_type": "code",
   "execution_count": 9,
   "metadata": {},
   "outputs": [
    {
     "data": {
      "text/plain": [
       "(69.70214286900425, 68.98715713081627)"
      ]
     },
     "execution_count": 9,
     "metadata": {},
     "output_type": "execute_result"
    }
   ],
   "source": [
    "np.mean(b.values[2:]), np.mean(a.values[2:])"
   ]
  },
  {
   "cell_type": "code",
   "execution_count": 10,
   "metadata": {},
   "outputs": [
    {
     "data": {
      "text/plain": [
       "(1.7802179254459942, 1.8796833394521175)"
      ]
     },
     "execution_count": 10,
     "metadata": {},
     "output_type": "execute_result"
    }
   ],
   "source": [
    "np.var(b.values[2:]), np.var(a.values[2:])"
   ]
  },
  {
   "cell_type": "code",
   "execution_count": 3,
   "metadata": {},
   "outputs": [
    {
     "data": {
      "image/png": "[encoded data removed]",
      "text/plain": [
       "<Figure size 432x288 with 1 Axes>"
      ]
     },
     "metadata": {
      "needs_background": "light"
     },
     "output_type": "display_data"
    }
   ],
   "source": [
    "axd = [i/10 for i in range(11)]\n",
    "arr = []\n",
    "for i in axd:\n",
    "    temp = pd.read_csv('old/ax_delay_many_to_one_'+str(i)+'.csv',index_col=[0])\n",
    "    arr.append(temp.values.flatten())\n",
    "\n",
    "arr = np.array(arr)\n",
    "plt.plot(axd,kurtosis(arr[:,2:],axis =1),label = 'Kurtosis')\n",
    "plt.plot(axd,skew(arr[:,2:],axis =1),label = 'Skew')\n",
    "plt.legend()\n",
    "plt.show()"
   ]
  },
  {
   "cell_type": "code",
   "execution_count": 162,
   "metadata": {},
   "outputs": [
    {
     "data": {
      "text/plain": [
       "ShapiroResult(statistic=0.9515131711959839, pvalue=0.27113404870033264)"
      ]
     },
     "execution_count": 162,
     "metadata": {},
     "output_type": "execute_result"
    }
   ],
   "source": [
    "check = np.random.normal(loc = 70, scale=1000, size=25)\n",
    "shapiro(check)"
   ]
  },
  {
   "cell_type": "code",
   "execution_count": 4,
   "metadata": {},
   "outputs": [
    {
     "data": {
      "text/plain": [
       "0.7843622514749984"
      ]
     },
     "execution_count": 4,
     "metadata": {},
     "output_type": "execute_result"
    }
   ],
   "source": [
    "wasserstein_distance(arr[2,2:], arr[8,:])"
   ]
  },
  {
   "cell_type": "code",
   "execution_count": 11,
   "metadata": {},
   "outputs": [
    {
     "data": {
      "image/png": "[encoded data removed]",
      "text/plain": [
       "<Figure size 432x288 with 1 Axes>"
      ]
     },
     "metadata": {
      "needs_background": "light"
     },
     "output_type": "display_data"
    }
   ],
   "source": [
    "dist = [wasserstein_distance(arr[5,2:], arr[i,:]) for i in range(5,11)]\n",
    "plt.plot(axd[5:],dist)\n",
    "plt.title('Wasserstein Distance')\n",
    "plt.show()\n",
    "\n",
    "# compare for 2 differenct cases of correction & no correction "
   ]
  },
  {
   "cell_type": "markdown",
   "metadata": {},
   "source": [
    "* Using CLT take means of runs (n=25) check for normality\n",
    "* if not, Ask Nida for other type of statistical test (for non normally distributed data)\n",
    "* if it is normal, since equal sample size, t-test should be good\n",
    "* Additionally chi square tests of mean can be performed"
   ]
  }
 ],
 "metadata": {
  "kernelspec": {
   "display_name": "Python 3 (ipykernel)",
   "language": "python",
   "name": "python3"
  },
  "language_info": {
   "codemirror_mode": {
    "name": "ipython",
    "version": 3
   },
   "file_extension": ".py",
   "mimetype": "text/x-python",
   "name": "python",
   "nbconvert_exporter": "python",
   "pygments_lexer": "ipython3",
   "version": "3.9.12"
  }
 },
 "nbformat": 4,
 "nbformat_minor": 4
}
